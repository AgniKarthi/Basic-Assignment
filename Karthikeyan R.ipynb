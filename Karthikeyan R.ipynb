{
  "nbformat": 4,
  "nbformat_minor": 0,
  "metadata": {
    "colab": {
      "name": "HomeAssig._1.ipynb",
      "provenance": [],
      "collapsed_sections": []
    },
    "kernelspec": {
      "name": "python3",
      "display_name": "Python 3"
    },
    "language_info": {
      "name": "python"
    }
  },
  "cells": [
    {
      "cell_type": "markdown",
      "metadata": {
        "id": "x6BAlryiT1Km"
      },
      "source": [
        "1. Complete the below code to print out the data types of following variables."
      ]
    },
    {
      "cell_type": "code",
      "metadata": {
        "id": "Uoo0h2aQT7Ms"
      },
      "source": [
        "x = 56\n",
        "y = 35.2\n",
        "z = 'Decodr Technologies'\n",
        "# Write your code from here\n"
		
		print (type(x), type(y), type(z))
		
      ],
      "execution_count": null,
      "outputs": [<class 'int'> <class 'float'> <class 'str'>]
    },
    {
      "cell_type": "markdown",
      "metadata": {
        "id": "h26GNOcyUjkb"
      },
      "source": [
        "2. Print out the output using the given variable as follows: **The cost of 4 items of price 30 each is 120**"
      ]
    },
    {
      "cell_type": "code",
      "metadata": {
        "id": "o5XeHyVBV_5q"
      },
      "source": [
        "total_items = 4\n",
        "item_price = 30\n",
        "total_cost = 120\n",
        "# Write your code from here\n"
		
		print("The cost of", total_items, "items of price", item_price, "each is", total_cost)
      ],
      "execution_count": null,
      "outputs": [The cost of 4 items of price 30 each is 120]
    },
    {
      "cell_type": "markdown",
      "metadata": {
        "id": "vCROVHI_WB5X"
      },
      "source": [
        "3. Write a code which takes a person name, age, height, weight and store them in a form of list."
      ]
    },
    {
      "cell_type": "code",
      "metadata": {
        "id": "tuM_d52QWkJp"
      },
      "source": [
        "# Write your code from here\n"
		
		person_name = input("Enter your name : ")
		age = eval(input("Enter your age : "))
		height = eval(input("Enter your height : "))
		weight = eval(input("Enter your weight : "))
		details = [person_name,age,height,weight]
		print(details)

      ],
      "execution_count": null,
      "outputs": [	Enter your name : Karthi
					Enter your age : 28
					Enter your height : 5.7
					Enter your weight : 68
					['Karthi', 28, 5.7, 68]]
    },
    {
      "cell_type": "markdown",
      "metadata": {
        "id": "yh8sT2yeWlSw"
      },
      "source": [
        "4. Write a code to count the number of characters in this given string below:"
      ]
    },
    {
      "cell_type": "code",
      "metadata": {
        "id": "DoZ3vSoCXBg3"
      },
      "source": [
        "string = 'Welcome to Decodr Technologies'\n",
        "# Write your code from here\n"
		
		print(len(string))
		
		or
		
		string = 'Welcome to Decodr Technologies'
		count=0
		for i in range(len(string)):
			count=count+1
		print(count)
		
      ],
      "execution_count": null,
      "outputs": [	30
					
					30]
    },
    {
      "cell_type": "markdown",
      "metadata": {
        "id": "mVTmfCjMXL93"
      },
      "source": [
        "5. From the given string below, extract mobile number only."
      ]
    },
    {
      "cell_type": "code",
      "metadata": {
        "id": "vssCnptuXyWK"
      },
      "source": [
        "z = 'Hello! My name is Yaman and my mobile number is 8594382256'\n",
        "# Write your code from here\n"
		
		z = 'Hello! My name is Yaman and my mobile number is 8594382256'
		for i in z:
			if i.isdigit() == True:
				print (i)
		
      ],
      "execution_count": null,
      "outputs": [	8
					5
					9
					4
					3
					8
					2
					2
					5
					6]
    },
    {
      "cell_type": "markdown",
      "metadata": {
        "id": "ajliHj48YCi8"
      },
      "source": [
        "6. Take 3 numbers from user and print the greatest number between them."
      ]
    },
    {
      "cell_type": "code",
      "metadata": {
        "id": "GEfn3Nn9YivM"
      },
      "source": [
        "# Write your code from here\n"
		
			a = eval(input("Enter first number : "))
			b = eval(input("Enter second number : "))
			c = eval(input("Enter third number : "))
			if a>b and a>c:
				print(a," is greater than",b ," and",c)
			elif b>a and b>c:
				print(b," is greater than",a ," and",c)
			else:
				print(c," is greater than",a ," and",b)
		
      ],
      "execution_count": null,
      "outputs": [	Enter first number : 55
					Enter second number : 66
					Enter third number : 77
					77  is greater than 55  and 66]
    },
    {
      "cell_type": "markdown",
      "metadata": {
        "id": "RZGOBZSub8es"
      },
      "source": [
        "7. Add two list into one list which are given below and print the final list.\n",
        "> Answer: [1, 2, 3, 4, 5, 6, 7, 8, 9, 10]\n",
        "\n"
      ]
    },
    {
      "cell_type": "code",
      "metadata": {
        "id": "kVzRSSTBdAYq"
      },
      "source": [
        "list1 = [1, 2, 3, 4, 5]\n",
        "list2 = [6, 7, 8, 9, 10]\n",
        "# Write your code from here\n"
		
		list1 = [1, 2, 3, 4, 5]
		list2 = [6, 7, 8, 9, 10]
		list = list1+list2
		print(list)

		
      ],
      "execution_count": null,
      "outputs": [[1, 2, 3, 4, 5, 6, 7, 8, 9, 10]]
    },
    {
      "cell_type": "markdown",
      "metadata": {
        "id": "BykxUXpHdKx-"
      },
      "source": [
        "8. Take a number between 0 to 10 from user and check whether that number is available in the below list or not."
      ]
    },
    {
      "cell_type": "code",
      "metadata": {
        "id": "pubdq6mAdKM3"
      },
      "source": [
        "z = [5, 2, 0, 4, 7, 1]\n",
        "# Write your code from here\n"
		
		z = [5, 2, 0, 4, 7, 1]
		a=eval(input("Enter any number between 0 to 9 : "))
		if a==5 or a==2 or a==0 or a==4 or a==7 or a==1:
			print("Given number is available in the list")
		else:
			print("Given number not in the list")
		
      ],
      "execution_count": null,
      "outputs": [	Enter any number between 0 to 9 : 0
					Given number is available in the list

					Enter any number between 0 to 9 : 33
					Given number not in the list]
    }
  ]
}